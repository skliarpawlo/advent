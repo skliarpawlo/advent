{
 "cells": [
  {
   "cell_type": "code",
   "execution_count": 1,
   "id": "b6ec9dbc-7ce0-4535-be18-9137a2f0708c",
   "metadata": {},
   "outputs": [],
   "source": [
    "import kfp\n",
    "import kfp.dsl as dsl\n",
    "import kfp.components as comp"
   ]
  },
  {
   "cell_type": "code",
   "execution_count": 2,
   "id": "d59daefa-f2aa-4803-ba39-c6f0f9f80030",
   "metadata": {},
   "outputs": [
    {
     "name": "stderr",
     "output_type": "stream",
     "text": [
      "ERROR:root:Failed to read a token from file '/var/run/secrets/kubeflow/pipelines/token' ([Errno 2] No such file or directory: '/var/run/secrets/kubeflow/pipelines/token').\n",
      "WARNING:root:Failed to set up default credentials. Proceeding without credentials...\n"
     ]
    }
   ],
   "source": [
    "client = kfp.Client()"
   ]
  },
  {
   "cell_type": "code",
   "execution_count": 66,
   "id": "c20557c7-45b9-4aba-85ab-2e990956ce52",
   "metadata": {},
   "outputs": [],
   "source": [
    "create_step_get_lines = comp.load_component_from_text(\"\"\"\n",
    "name: Get Lines\n",
    "description: Gets the specified number of lines from the input file.\n",
    "\n",
    "inputs:\n",
    "- {name: file_path, type: text, description: 'Input file path'}\n",
    "\n",
    "implementation:\n",
    "  container:\n",
    "    image: debian:latest\n",
    "    command: [\n",
    "      cat,      \n",
    "      {inputPath: file_path},\n",
    "    ]\"\"\")"
   ]
  },
  {
   "cell_type": "code",
   "execution_count": 147,
   "id": "4daa2f12-1634-4f57-8f83-beb26e26ff91",
   "metadata": {},
   "outputs": [],
   "source": [
    "def add(\n",
    "    a: float, \n",
    "    b: float,\n",
    "    output_text: comp.OutputPath('text'),\n",
    "):\n",
    "    import json\n",
    "    \n",
    "    a = float(a)\n",
    "    b = float(b)    \n",
    "    for i in range(10):\n",
    "        print(f'multiply={a * b}')\n",
    "        \n",
    "    with open(output_text, 'w') as f:\n",
    "        for i in range(10):\n",
    "            f.write(f'multiply={a * b}\\n')\n",
    "\n",
    "component_add = kfp.components.create_component_from_func(\n",
    "    func=add,\n",
    "    base_image='python:3.7',\n",
    "    packages_to_install=[],\n",
    ")\n",
    "    \n",
    "def my_trivial_pipeline(a, b):\n",
    "    add_task = component_add(a, b)\n",
    "    create_step_get_lines(\n",
    "        file_path=add_task.outputs['output_text'],\n",
    "    )"
   ]
  },
  {
   "cell_type": "code",
   "execution_count": 148,
   "id": "c18892a8-99be-47f8-86b0-dcd18d3a50cf",
   "metadata": {},
   "outputs": [],
   "source": [
    "kfp.compiler.Compiler().compile(\n",
    "    pipeline_func=my_trivial_pipeline,\n",
    "    package_path='trivial.yaml'\n",
    ")"
   ]
  },
  {
   "cell_type": "code",
   "execution_count": 149,
   "id": "deea2ed2-ee3c-4b26-9104-3d4bf2387359",
   "metadata": {},
   "outputs": [
    {
     "data": {
      "text/html": [
       "<a href=\"/pipeline/#/experiments/details/dd13605e-87c8-4bd7-8833-365d95edcff2\" target=\"_blank\" >Experiment details</a>."
      ],
      "text/plain": [
       "<IPython.core.display.HTML object>"
      ]
     },
     "metadata": {},
     "output_type": "display_data"
    },
    {
     "data": {
      "text/html": [
       "<a href=\"/pipeline/#/runs/details/1b77ccb0-c4ef-4263-b7cf-4df14b324eaf\" target=\"_blank\" >Run details</a>."
      ],
      "text/plain": [
       "<IPython.core.display.HTML object>"
      ]
     },
     "metadata": {},
     "output_type": "display_data"
    },
    {
     "data": {
      "text/plain": [
       "RunPipelineResult(run_id=1b77ccb0-c4ef-4263-b7cf-4df14b324eaf)"
      ]
     },
     "execution_count": 149,
     "metadata": {},
     "output_type": "execute_result"
    }
   ],
   "source": [
    "client.create_run_from_pipeline_func(\n",
    "    my_trivial_pipeline,\n",
    "    arguments={\n",
    "        'a': 50.,\n",
    "        'b': -2.,\n",
    "    },\n",
    "    experiment_name='pavlos-exp-1',\n",
    ")"
   ]
  },
  {
   "cell_type": "code",
   "execution_count": 150,
   "id": "a6e93ab4-c5f9-4470-98fc-6a4d42d9e4ec",
   "metadata": {},
   "outputs": [],
   "source": [
    "import kfp\n",
    "import kfp.dsl as dsl\n",
    "from kfp import components\n",
    "\n",
    "from kubeflow.katib import ApiClient\n",
    "from kubernetes.client import V1ObjectMeta\n",
    "from kubeflow.katib import V1beta1Experiment as Experiment\n",
    "from kubeflow.katib import V1beta1ExperimentSpec as ExperimentSpec\n",
    "from kubeflow.katib import V1beta1AlgorithmSpec as Algorithm\n",
    "from kubeflow.katib import V1beta1MetricsCollectorSpec as MetricsCollector\n",
    "from kubeflow.katib import V1beta1CollectorSpec as Collector\n",
    "from kubeflow.katib import V1beta1SourceSpec as Source\n",
    "from kubeflow.katib import V1beta1FileSystemPath as FileSysPath\n",
    "from kubeflow.katib import V1beta1FilterSpec as Filter\n",
    "from kubeflow.katib import V1beta1EarlyStoppingSpec as EarlyStopping\n",
    "from kubeflow.katib import V1beta1EarlyStoppingSetting as EarlyStoppingSetting\n",
    "from kubeflow.katib import V1beta1ObjectiveSpec as Objective\n",
    "from kubeflow.katib import V1beta1ParameterSpec as Parameter\n",
    "from kubeflow.katib import V1beta1FeasibleSpace as FeasibleSpace\n",
    "from kubeflow.katib import V1beta1TrialTemplate as TrialTemplate\n",
    "from kubeflow.katib import V1beta1TrialParameterSpec as TrialParameter\n",
    "from kubeflow import katib"
   ]
  },
  {
   "cell_type": "code",
   "execution_count": 151,
   "id": "925beb01-e82a-4361-90c2-97d532ced1ad",
   "metadata": {},
   "outputs": [],
   "source": [
    "compiler = kfp.compiler.Compiler()"
   ]
  },
  {
   "cell_type": "code",
   "execution_count": 152,
   "id": "96f671b0-f662-4342-9969-ed3850de753e",
   "metadata": {},
   "outputs": [],
   "source": [
    "trail_spec = compiler._create_workflow(\n",
    "    pipeline_func=my_trivial_pipeline,\n",
    "    params_list=[\n",
    "        kfp.dsl._pipeline_param.PipelineParam(\n",
    "            name='a', \n",
    "            value='${trialParameters.a}',\n",
    "        ),\n",
    "\n",
    "        kfp.dsl._pipeline_param.PipelineParam(\n",
    "            name='b', \n",
    "            value='${trialParameters.b}',\n",
    "        ),                \n",
    "\n",
    "    ],\n",
    ")"
   ]
  },
  {
   "cell_type": "code",
   "execution_count": 153,
   "id": "d5f3611b-fc56-46b6-b7b9-3de6a839c715",
   "metadata": {},
   "outputs": [],
   "source": [
    "trail_spec['spec']['serviceAccountName'] = 'default-editor'\n",
    "trail_spec['metadata']['annotations']['sidecar.istio.io/inject'] = 'false'\n",
    "trail_spec['metadata']['labels']['access-ml-pipeline'] = 'true'\n",
    "for tmpl in trail_spec['spec']['templates']:\n",
    "    if not 'metadata' in tmpl:\n",
    "        continue\n",
    "    tmpl['metadata']['annotations']['sidecar.istio.io/inject'] = 'false'\n",
    "    tmpl['metadata']['labels']['access-ml-pipeline'] = 'true'    \n",
    "    # tmpl['metadata']['labels']['katib.kubeflow.org/model-training'] = 'true'\n",
    "    \n",
    "    \n",
    "(\n",
    "    trail_spec['spec']['templates'][1]\n",
    "    ['metadata']['labels']['katib.kubeflow.org/model-training']\n",
    ") = 'true'    "
   ]
  },
  {
   "cell_type": "code",
   "execution_count": 154,
   "id": "4faf21db-9b55-43d9-954d-45bf9d7a3b82",
   "metadata": {},
   "outputs": [],
   "source": [
    "experiment_spec = ExperimentSpec(\n",
    "    max_trial_count=20,\n",
    "    max_failed_trial_count=3,\n",
    "    parallel_trial_count=2,\n",
    "    objective=Objective(\n",
    "        type=\"maximize\",\n",
    "        objective_metric_name='multiply',\n",
    "    ),\n",
    "    algorithm=Algorithm(algorithm_name=\"random\"),\n",
    "    parameters=[\n",
    "        Parameter(\n",
    "            name=\"a\",\n",
    "            parameter_type=\"double\",\n",
    "            feasible_space=FeasibleSpace(\n",
    "                min=\"-5\",\n",
    "                max=\"2\",\n",
    "            ),\n",
    "        ),\n",
    "        Parameter(\n",
    "            name=\"b\",\n",
    "            parameter_type=\"double\",\n",
    "            feasible_space=FeasibleSpace(\n",
    "                min=\"-10.0\",\n",
    "                max=\"1.0\",\n",
    "            ),\n",
    "        ),        \n",
    "    ],\n",
    "    trial_template=TrialTemplate(\n",
    "        retain=True,\n",
    "        primary_container_name=\"main\",\n",
    "        primary_pod_labels={\n",
    "            \"katib.kubeflow.org/model-training\": \"true\",\n",
    "        },\n",
    "        success_condition = 'status.[@this].#(phase==\"Succeeded\")#',\n",
    "        failure_condition = 'status.[@this].#(phase==\"Failed\")#',\n",
    "        trial_parameters=[\n",
    "            TrialParameter(\n",
    "                name=\"a\",\n",
    "                description=\"a\",\n",
    "                reference=\"a\",\n",
    "            ),\n",
    "            TrialParameter(\n",
    "                name=\"b\",\n",
    "                description=\"b\",\n",
    "                reference=\"b\",\n",
    "            ),            \n",
    "        ],\n",
    "        trial_spec=trail_spec,\n",
    "    ),\n",
    ")"
   ]
  },
  {
   "cell_type": "code",
   "execution_count": 158,
   "id": "d405e093-454e-4340-8b99-b131ea8cd1d1",
   "metadata": {},
   "outputs": [],
   "source": [
    "exp = Experiment(\n",
    "    api_version=\"kubeflow.org/v1beta1\",\n",
    "    kind=\"Experiment\",\n",
    "    metadata=V1ObjectMeta(\n",
    "        name=\"my-trivial-katib-v20\",\n",
    "        namespace=\"kubeflow-user-example-com\",\n",
    "    ),\n",
    "    spec=experiment_spec,\n",
    ")"
   ]
  },
  {
   "cell_type": "code",
   "execution_count": null,
   "id": "92b45fa0-bf26-4141-abb5-26c9ea4f9131",
   "metadata": {},
   "outputs": [],
   "source": [
    "from kubeflow.katib import KatibClient\n",
    "KatibClient().create_experiment(exp, namespace=\"kubeflow-user-example-com\")"
   ]
  }
 ],
 "metadata": {
  "kernelspec": {
   "display_name": "Python 3",
   "language": "python",
   "name": "python3"
  },
  "language_info": {
   "codemirror_mode": {
    "name": "ipython",
    "version": 3
   },
   "file_extension": ".py",
   "mimetype": "text/x-python",
   "name": "python",
   "nbconvert_exporter": "python",
   "pygments_lexer": "ipython3",
   "version": "3.8.10"
  }
 },
 "nbformat": 4,
 "nbformat_minor": 5
}
